{
 "cells": [
  {
   "cell_type": "code",
   "execution_count": 116,
   "metadata": {},
   "outputs": [],
   "source": [
    "import numpy as np\n",
    "import pandas as pd\n",
    "from IPython.display import display"
   ]
  },
  {
   "cell_type": "code",
   "execution_count": 117,
   "metadata": {},
   "outputs": [],
   "source": [
    "#Using a set for faster lookups than a numpy array\n",
    "def loadGuessableWords():\n",
    "    with open(\"wordle_legal_words.txt\", \"r\") as file:\n",
    "        words = set(word.strip() for word in file)\n",
    "    return words\n",
    "\n",
    "def loadAnswers():\n",
    "    with open(\"wordle_answers.txt\", \"r\") as file:\n",
    "        answers = set(answer.strip() for answer in file)\n",
    "    return answers"
   ]
  },
  {
   "cell_type": "code",
   "execution_count": 118,
   "metadata": {},
   "outputs": [],
   "source": [
    "#return a list of the colour pattern for a given guess and answer: 0 is grey, 1 is yellow, 2 is green\n",
    "def generateColourPattern(guess,answer) :\n",
    "    pattern = [0,0,0,0,0]\n",
    "    correctGuesses = []\n",
    "\n",
    "    #check for green\n",
    "    for i in range(5) :\n",
    "        if guess[i] == answer[i] :\n",
    "            pattern[i] = 2\n",
    "            correctGuesses.append(guess[i])\n",
    "\n",
    "    #check for yellow\n",
    "    for i in range(5) :\n",
    "        if guess[i] in answer and guess[i] != answer[i] :\n",
    "            #yellows letter are highlighted in order, up to the count in the answer minus the number guessed correctly\n",
    "            n = answer.count(guess[i])\n",
    "            c = correctGuesses.count(guess[i])\n",
    "            if guess.count(guess[i],0,i+1) <= n-c :\n",
    "                pattern[i] = 1\n",
    "\n",
    "    return pattern"
   ]
  },
  {
   "cell_type": "code",
   "execution_count": 119,
   "metadata": {},
   "outputs": [],
   "source": [
    "#testcases for generateColourPattern\n",
    "assert generateColourPattern(\"apple\",\"hello\") == [0,0,0,2,1]\n",
    "assert generateColourPattern(\"hello\",\"hello\") == [2,2,2,2,2]\n",
    "assert generateColourPattern(\"hello\",\"apple\") == [0,1,0,2,0]\n",
    "assert generateColourPattern(\"lllll\",\"apple\") == [0,0,0,2,0]\n",
    "assert generateColourPattern(\"llple\",\"aaall\") == [1,0,0,2,0]"
   ]
  },
  {
   "cell_type": "code",
   "execution_count": 132,
   "metadata": {},
   "outputs": [],
   "source": [
    "#for every word in the list of answers, generate the pattern for every possible guess\n",
    "def calculateEntropy(distributionDict) :\n",
    "    observations = distributionDict.values()\n",
    "    total = sum(observations)\n",
    "    probabilities = [x/total for x in observations]\n",
    "    entropy = -sum([p*np.log2(p) for p in probabilities])\n",
    "    return entropy\n",
    "\n",
    "def generateEntropyDict(possibleAnswers) :\n",
    "    dh = display('Starting...',display_id=True)\n",
    "    wordEntropies = {}\n",
    "    for guess in loadGuessableWords() :\n",
    "        dh.update('Evaluating ' + guess)\n",
    "        patternDist = {}\n",
    "        for answer in possibleAnswers :\n",
    "            pattern = ''.join(str(x) for x in generateColourPattern(guess,answer))\n",
    "            patternDist[pattern] = patternDist.get(pattern,0) + 1 #increment the count for this pattern\n",
    "        e = calculateEntropy(patternDist)\n",
    "        wordEntropies[guess] = wordEntropies.get(guess,0) + e\n",
    "    dh.update('Complete')\n",
    "    return wordEntropies"
   ]
  },
  {
   "cell_type": "code",
   "execution_count": 133,
   "metadata": {},
   "outputs": [
    {
     "data": {
      "text/plain": [
       "'Complete'"
      ]
     },
     "metadata": {},
     "output_type": "display_data"
    }
   ],
   "source": [
    "d = generateEntropyDict(loadAnswers())"
   ]
  },
  {
   "cell_type": "code",
   "execution_count": 134,
   "metadata": {},
   "outputs": [
    {
     "data": {
      "text/plain": [
       "'soare'"
      ]
     },
     "execution_count": 134,
     "metadata": {},
     "output_type": "execute_result"
    }
   ],
   "source": [
    "max(d, key=d.get)"
   ]
  },
  {
   "cell_type": "code",
   "execution_count": 135,
   "metadata": {},
   "outputs": [],
   "source": [
    "with open('first_turn_entropies.txt', 'w') as file:\n",
    "    for key, value in d.items():\n",
    "        file.write(f'{key}: {value}\\n')"
   ]
  }
 ],
 "metadata": {
  "kernelspec": {
   "display_name": "s1",
   "language": "python",
   "name": "python3"
  },
  "language_info": {
   "codemirror_mode": {
    "name": "ipython",
    "version": 3
   },
   "file_extension": ".py",
   "mimetype": "text/x-python",
   "name": "python",
   "nbconvert_exporter": "python",
   "pygments_lexer": "ipython3",
   "version": "3.9.18"
  }
 },
 "nbformat": 4,
 "nbformat_minor": 2
}
