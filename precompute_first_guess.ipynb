{
 "cells": [
  {
   "cell_type": "code",
   "execution_count": 1,
   "metadata": {},
   "outputs": [],
   "source": [
    "from IPython.display import display\n",
    "import wordle.tools as wt"
   ]
  },
  {
   "cell_type": "code",
   "execution_count": 2,
   "metadata": {},
   "outputs": [],
   "source": [
    "#testcases for generateColourPattern\n",
    "assert wt.generate_pattern(\"apple\",\"hello\") == [0, 0, 0, 2, 1]\n",
    "assert wt.generate_pattern(\"hello\",\"hello\") == [2, 2, 2, 2, 2]\n",
    "assert wt.generate_pattern(\"hello\",\"apple\") == [0, 1, 0, 2, 0]\n",
    "assert wt.generate_pattern(\"lllll\",\"apple\") == [0, 0, 0, 2, 0]\n",
    "assert wt.generate_pattern(\"llple\",\"aaall\") == [1, 0, 0, 2, 0]"
   ]
  },
  {
   "cell_type": "code",
   "execution_count": 3,
   "metadata": {},
   "outputs": [],
   "source": [
    "def first_turn_entropies():\n",
    "    \"\"\"Dedicated function for generating the first guess entropy dictionary, with a progress display\"\"\"\n",
    "\n",
    "    dh = display('Starting...',display_id=True)\n",
    "    word_entropies = {}\n",
    "    for guess in wt.load_guessable_words() :\n",
    "        dh.update('Evaluating ' + guess)\n",
    "        pattern_dist = {}\n",
    "        for answer in wt.load_answers() :\n",
    "            pattern = ''.join(str(x) for x in wt.generate_pattern(guess,answer))\n",
    "            pattern_dist[pattern] = pattern_dist.get(pattern,0) + 1 #increment the count for this pattern\n",
    "        e = wt.calculate_entropy(pattern_dist)\n",
    "        word_entropies[guess] = word_entropies.get(guess,0) + e\n",
    "    dh.update('Complete')\n",
    "    return word_entropies"
   ]
  },
  {
   "cell_type": "code",
   "execution_count": 4,
   "metadata": {},
   "outputs": [
    {
     "data": {
      "text/plain": [
       "'Complete'"
      ]
     },
     "metadata": {},
     "output_type": "display_data"
    }
   ],
   "source": [
    "d = first_turn_entropies()"
   ]
  },
  {
   "cell_type": "code",
   "execution_count": 5,
   "metadata": {},
   "outputs": [
    {
     "data": {
      "text/plain": [
       "'soare'"
      ]
     },
     "execution_count": 5,
     "metadata": {},
     "output_type": "execute_result"
    }
   ],
   "source": [
    "max(d, key=d.get)"
   ]
  },
  {
   "cell_type": "code",
   "execution_count": 6,
   "metadata": {},
   "outputs": [],
   "source": [
    "d = dict(sorted(d.items(), reverse=True, key=lambda item: item[1]))"
   ]
  },
  {
   "cell_type": "code",
   "execution_count": 7,
   "metadata": {},
   "outputs": [],
   "source": [
    "with open('first_turn_entropies.txt', 'w') as file:\n",
    "    for key, value in d.items():\n",
    "        file.write(f'{key}: {value}\\n')"
   ]
  }
 ],
 "metadata": {
  "kernelspec": {
   "display_name": "s1",
   "language": "python",
   "name": "python3"
  },
  "language_info": {
   "codemirror_mode": {
    "name": "ipython",
    "version": 3
   },
   "file_extension": ".py",
   "mimetype": "text/x-python",
   "name": "python",
   "nbconvert_exporter": "python",
   "pygments_lexer": "ipython3",
   "version": "3.9.18"
  }
 },
 "nbformat": 4,
 "nbformat_minor": 2
}
